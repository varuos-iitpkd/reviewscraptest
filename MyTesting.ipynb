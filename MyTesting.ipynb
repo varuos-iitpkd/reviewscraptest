{
 "cells": [
  {
   "cell_type": "code",
   "execution_count": 7,
   "id": "d860fdf9",
   "metadata": {},
   "outputs": [],
   "source": [
    "from flask import Flask, render_template, request, jsonify\n",
    "from flask_cors import cross_origin\n",
    "from bs4 import BeautifulSoup as bs\n",
    "from urllib.request import urlopen as uReq"
   ]
  },
  {
   "cell_type": "code",
   "execution_count": 14,
   "id": "de8809df",
   "metadata": {},
   "outputs": [
    {
     "name": "stdout",
     "output_type": "stream",
     "text": [
      " * Serving Flask app \"__main__\" (lazy loading)\n",
      " * Environment: production\n",
      "   WARNING: This is a development server. Do not use it in a production deployment.\n",
      "   Use a production WSGI server instead.\n",
      " * Debug mode: on\n"
     ]
    },
    {
     "name": "stderr",
     "output_type": "stream",
     "text": [
      " * Restarting with stat\n"
     ]
    },
    {
     "ename": "SystemExit",
     "evalue": "1",
     "output_type": "error",
     "traceback": [
      "An exception has occurred, use %tb to see the full traceback.\n",
      "\u001b[1;31mSystemExit\u001b[0m\u001b[1;31m:\u001b[0m 1\n"
     ]
    },
    {
     "name": "stderr",
     "output_type": "stream",
     "text": [
      "C:\\Users\\sunso\\anaconda3\\envs\\reviewscraptest\\lib\\site-packages\\IPython\\core\\interactiveshell.py:3351: UserWarning: To exit: use 'exit', 'quit', or Ctrl-D.\n",
      "  warn(\"To exit: use 'exit', 'quit', or Ctrl-D.\", stacklevel=1)\n"
     ]
    }
   ],
   "source": [
    "app = Flask(__name__)\n",
    "\n",
    "\n",
    "@app.route('/', methods = ['GET']) ## route to display the home page\n",
    "@cross_origin()\n",
    "def homePage():\n",
    "    return render_template('index.html')\n",
    "\n",
    "\n",
    "@app.route('/review', methods = ['POST', 'GET'])\n",
    "@cross_origin()\n",
    "def index():\n",
    "    if request.method == 'POST':\n",
    "        try:\n",
    "            searchstring = request.form['content'].replace(\" \", '')\n",
    "            flipkart_url = 'https://www.flipkart.com/search?q=' + searchstring\n",
    "            uClient = uReq(flipkart_url)\n",
    "            fliplart_page = uClient.read()\n",
    "            uClient.close()\n",
    "            flipkart_html = bs(flipkart_page, 'html.parser')\n",
    "            bigboxes = flipkart_html.findAll(\"div\", {\"class\": \"_1AtVbE col-12-12\"})\n",
    "            box = bigboxes[0]\n",
    "            productLink = 'https://www.flipkart.com' + box.div.div.div.a['href']\n",
    "            prodRes = requests.get(productLink)\n",
    "            prodRes.encoding = 'utf-8'\n",
    "            prod_html = bs(prodRes.test, 'html.parser')\n",
    "            print(prod_html)\n",
    "            commentboxes = prod_html.find_all(\"div\", {'class': \"_16PBlm\"})\n",
    "            \n",
    "            filename = searchstring + '.csv'\n",
    "            fw = open(filename, 'w')\n",
    "            headers = 'Product, Customer Name, Rating, Heading, Comment /n'\n",
    "            fw.write(headers)\n",
    "            reviews = []\n",
    "            \n",
    "            for commentbox in commentboxes:\n",
    "                try:\n",
    "                    name = commentbox.div.div.find_all('p', {'class': '_2sc7ZR _2V5EHH'})[0].text\n",
    "                except:\n",
    "                    name = 'No Name'\n",
    "                    \n",
    "                try:\n",
    "                    rating = commentbox.div.div.div.div.text\n",
    "                except:\n",
    "                    rating = \"No Rating\"\n",
    "                    \n",
    "                try:\n",
    "                    commentHead = comment.div.div.div.p.text\n",
    "                except:\n",
    "                    commentHead = 'No Comment Heading'\n",
    "                    \n",
    "                try:\n",
    "                    comtag = commentbox.div.div.find_all('div', {'class': ''})\n",
    "                    custComment = comtag[0].div.text\n",
    "                except Exception as e:\n",
    "                    print('Exception while creating dictionary: ', e)\n",
    "                    \n",
    "                mydict = {'Product': searchstring, \"Name\": name, \"Rating\": rating, 'CommentHead': commentHead,\n",
    "                         \"Comment\": custComment}\n",
    "                reviews.append(mydict)\n",
    "            return render_template('results.html', reviews = reviews[0:(len(reviews)-1)])\n",
    "        except Exception as e:\n",
    "            print('The Exception message is: ', e)\n",
    "            return 'Something went Wrong!!!'\n",
    "    else:\n",
    "        return render_template('index.html')\n",
    "\n",
    "    \n",
    "if __name__ == \"__main__\":\n",
    "    app.run(debug = True)"
   ]
  },
  {
   "cell_type": "code",
   "execution_count": null,
   "id": "14aa4c50",
   "metadata": {},
   "outputs": [],
   "source": []
  },
  {
   "cell_type": "code",
   "execution_count": null,
   "id": "6eee8ceb",
   "metadata": {},
   "outputs": [],
   "source": []
  },
  {
   "cell_type": "code",
   "execution_count": null,
   "id": "b76e877f",
   "metadata": {},
   "outputs": [],
   "source": []
  }
 ],
 "metadata": {
  "kernelspec": {
   "display_name": "Python 3",
   "language": "python",
   "name": "python3"
  },
  "language_info": {
   "codemirror_mode": {
    "name": "ipython",
    "version": 3
   },
   "file_extension": ".py",
   "mimetype": "text/x-python",
   "name": "python",
   "nbconvert_exporter": "python",
   "pygments_lexer": "ipython3",
   "version": "3.6.9"
  }
 },
 "nbformat": 4,
 "nbformat_minor": 5
}
